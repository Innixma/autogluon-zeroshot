{
 "cells": [
  {
   "cell_type": "markdown",
   "id": "b7af69a3",
   "metadata": {},
   "source": [
    "# AutoGluon Zeroshot\n",
    "\n",
    "This notebook shows a quick analysis of offline evaluations generated from LightGBM, CatBoost, XGBoost, FastAI, and Torch models for 601 configs on 78 datasets.\n",
    "\n",
    "We illustrate some potential benefits of learning zero-shot configurations compared to the current default used in AutoGluon.\n",
    "\n",
    "## Data analysis, context\n",
    "\n",
    "\n",
    "**Files**\n",
    "* task_metadata.csv: full metadata info for each dataset\n",
    "* results_ranked_by_dataset_valid.csv: loss obtained on each config dataset\n",
    "* results_ranked_valid.csv: aggregated loss obtained on each config\n",
    "* openml_ag_*.csv: loss obtained on each config dataset with additional information such as validation scores"
   ]
  },
  {
   "cell_type": "code",
   "execution_count": 1,
   "outputs": [],
   "source": [
    "import pandas as pd\n",
    "from autogluon.common.loaders import load_pd\n",
    "\n",
    "path_prefix = '../data/results/all'\n",
    "\n",
    "df_results = pd.read_csv(f\"{path_prefix}/results_ranked_valid.csv\")\n",
    "df_results_by_dataset = pd.read_csv(f\"{path_prefix}/results_ranked_by_dataset_valid.csv\")\n",
    "df_metadata = pd.read_csv(f\"../data/metadata/task_metadata.csv\")\n",
    "df_raw = load_pd.load([\n",
    "    f\"{path_prefix}/openml_ag_2022_09_30_gbm_zs_models.csv\",\n",
    "    f\"{path_prefix}/openml_ag_2022_09_30_cat_zs_models.csv\",\n",
    "    f\"{path_prefix}/openml_ag_2022_10_02_zs_models.csv\",\n",
    "])"
   ],
   "metadata": {
    "collapsed": false
   }
  },
  {
   "cell_type": "code",
   "execution_count": 2,
   "outputs": [],
   "source": [
    "from autogluon.common.loaders import load_json\n",
    "configs_prefix = '../data/configs/configs_20221004'\n",
    "configs_catboost = load_json.load(path=f'{configs_prefix}/configs_catboost.json')\n",
    "configs_fastai = load_json.load(path=f'{configs_prefix}/configs_fastai.json')\n",
    "configs_lightgbm = load_json.load(path=f'{configs_prefix}/configs_lightgbm.json')\n",
    "configs_nn_torch = load_json.load(path=f'{configs_prefix}/configs_nn_torch.json')\n",
    "configs_xgboost = load_json.load(path=f'{configs_prefix}/configs_xgboost.json')\n",
    "configs_full = {}\n",
    "configs_full.update(configs_catboost)\n",
    "configs_full.update(configs_fastai)\n",
    "configs_full.update(configs_lightgbm)\n",
    "configs_full.update(configs_nn_torch)\n",
    "configs_full.update(configs_xgboost)"
   ],
   "metadata": {
    "collapsed": false
   }
  },
  {
   "cell_type": "code",
   "execution_count": 3,
   "outputs": [
    {
     "data": {
      "text/plain": "      framework  time_train_s  metric_error  time_infer_s  bestdiff  \\\n0  CatBoost_r62     65.203621  99191.359891      0.000787  0.204138   \n1  CatBoost_r23    129.212207  99088.179347      0.000695  0.205088   \n2  CatBoost_r89     59.593092  97995.705250      0.000600  0.208814   \n3  CatBoost_r94    117.943294  98904.869427      0.000623  0.207496   \n4  CatBoost_r75    227.077468  98752.537202      0.000725  0.211591   \n\n   loss_rescaled  time_train_s_rescaled  time_infer_s_rescaled        rank  \\\n0       0.053674              89.730839               6.372296  127.961538   \n1       0.051183             197.055698               7.281554  132.660256   \n2       0.051571              87.210185               3.539884  134.512821   \n3       0.051365             186.239878               5.825278  135.570513   \n4       0.053580             319.237851              12.789591  136.455128   \n\n   rank=1_count  rank=2_count  rank=3_count  rank>3_count  error_count  \n0             0             0             0            78           23  \n1             0             0             0            78           17  \n2             0             0             0            78           24  \n3             0             0             0            78           26  \n4             0             0             0            78           23  ",
      "text/html": "<div>\n<style scoped>\n    .dataframe tbody tr th:only-of-type {\n        vertical-align: middle;\n    }\n\n    .dataframe tbody tr th {\n        vertical-align: top;\n    }\n\n    .dataframe thead th {\n        text-align: right;\n    }\n</style>\n<table border=\"1\" class=\"dataframe\">\n  <thead>\n    <tr style=\"text-align: right;\">\n      <th></th>\n      <th>framework</th>\n      <th>time_train_s</th>\n      <th>metric_error</th>\n      <th>time_infer_s</th>\n      <th>bestdiff</th>\n      <th>loss_rescaled</th>\n      <th>time_train_s_rescaled</th>\n      <th>time_infer_s_rescaled</th>\n      <th>rank</th>\n      <th>rank=1_count</th>\n      <th>rank=2_count</th>\n      <th>rank=3_count</th>\n      <th>rank&gt;3_count</th>\n      <th>error_count</th>\n    </tr>\n  </thead>\n  <tbody>\n    <tr>\n      <th>0</th>\n      <td>CatBoost_r62</td>\n      <td>65.203621</td>\n      <td>99191.359891</td>\n      <td>0.000787</td>\n      <td>0.204138</td>\n      <td>0.053674</td>\n      <td>89.730839</td>\n      <td>6.372296</td>\n      <td>127.961538</td>\n      <td>0</td>\n      <td>0</td>\n      <td>0</td>\n      <td>78</td>\n      <td>23</td>\n    </tr>\n    <tr>\n      <th>1</th>\n      <td>CatBoost_r23</td>\n      <td>129.212207</td>\n      <td>99088.179347</td>\n      <td>0.000695</td>\n      <td>0.205088</td>\n      <td>0.051183</td>\n      <td>197.055698</td>\n      <td>7.281554</td>\n      <td>132.660256</td>\n      <td>0</td>\n      <td>0</td>\n      <td>0</td>\n      <td>78</td>\n      <td>17</td>\n    </tr>\n    <tr>\n      <th>2</th>\n      <td>CatBoost_r89</td>\n      <td>59.593092</td>\n      <td>97995.705250</td>\n      <td>0.000600</td>\n      <td>0.208814</td>\n      <td>0.051571</td>\n      <td>87.210185</td>\n      <td>3.539884</td>\n      <td>134.512821</td>\n      <td>0</td>\n      <td>0</td>\n      <td>0</td>\n      <td>78</td>\n      <td>24</td>\n    </tr>\n    <tr>\n      <th>3</th>\n      <td>CatBoost_r94</td>\n      <td>117.943294</td>\n      <td>98904.869427</td>\n      <td>0.000623</td>\n      <td>0.207496</td>\n      <td>0.051365</td>\n      <td>186.239878</td>\n      <td>5.825278</td>\n      <td>135.570513</td>\n      <td>0</td>\n      <td>0</td>\n      <td>0</td>\n      <td>78</td>\n      <td>26</td>\n    </tr>\n    <tr>\n      <th>4</th>\n      <td>CatBoost_r75</td>\n      <td>227.077468</td>\n      <td>98752.537202</td>\n      <td>0.000725</td>\n      <td>0.211591</td>\n      <td>0.053580</td>\n      <td>319.237851</td>\n      <td>12.789591</td>\n      <td>136.455128</td>\n      <td>0</td>\n      <td>0</td>\n      <td>0</td>\n      <td>78</td>\n      <td>23</td>\n    </tr>\n  </tbody>\n</table>\n</div>"
     },
     "execution_count": 3,
     "metadata": {},
     "output_type": "execute_result"
    }
   ],
   "source": [
    "df_results.head()"
   ],
   "metadata": {
    "collapsed": false
   }
  },
  {
   "cell_type": "code",
   "execution_count": 4,
   "outputs": [
    {
     "data": {
      "text/plain": "       time_train_s  metric_error  time_infer_s    bestdiff  loss_rescaled  \\\ncount    601.000000  6.010000e+02    601.000000  601.000000     601.000000   \nmean      30.375095  2.256017e+05      0.001089    0.289747       0.101397   \nstd       48.148224  5.521955e+05      0.001218    0.070691       0.059722   \nmin        1.285028  9.484829e+04      0.000055    0.202583       0.051183   \n25%        7.792408  9.884947e+04      0.000097    0.254235       0.073272   \n50%       17.064932  9.965550e+04      0.000313    0.261837       0.081322   \n75%       31.696259  1.176416e+05      0.002360    0.333955       0.118363   \nmax      438.775214  6.787876e+06      0.003324    0.665725       0.596340   \n\n       time_train_s_rescaled  time_infer_s_rescaled        rank  rank=1_count  \\\ncount             601.000000             601.000000  601.000000    601.000000   \nmean               46.813422              16.470190  301.000000      0.121464   \nstd                75.454596              13.204795   89.946774      0.378887   \nmin                 1.868745               2.018518  127.961538      0.000000   \n25%                11.042172               8.745046  246.570513      0.000000   \n50%                24.372176              13.772678  282.570513      0.000000   \n75%                48.262172              19.281611  374.852564      0.000000   \nmax               602.365408              95.218106  565.814103      3.000000   \n\n       rank=2_count  rank=3_count  rank>3_count  error_count  \ncount    601.000000    601.000000    601.000000   601.000000  \nmean       0.133111      0.119800     77.625624     9.184692  \nstd        0.377163      0.377214      0.688919     6.622751  \nmin        0.000000      0.000000     74.000000     0.000000  \n25%        0.000000      0.000000     77.000000     4.000000  \n50%        0.000000      0.000000     78.000000     8.000000  \n75%        0.000000      0.000000     78.000000    14.000000  \nmax        2.000000      3.000000     78.000000    26.000000  ",
      "text/html": "<div>\n<style scoped>\n    .dataframe tbody tr th:only-of-type {\n        vertical-align: middle;\n    }\n\n    .dataframe tbody tr th {\n        vertical-align: top;\n    }\n\n    .dataframe thead th {\n        text-align: right;\n    }\n</style>\n<table border=\"1\" class=\"dataframe\">\n  <thead>\n    <tr style=\"text-align: right;\">\n      <th></th>\n      <th>time_train_s</th>\n      <th>metric_error</th>\n      <th>time_infer_s</th>\n      <th>bestdiff</th>\n      <th>loss_rescaled</th>\n      <th>time_train_s_rescaled</th>\n      <th>time_infer_s_rescaled</th>\n      <th>rank</th>\n      <th>rank=1_count</th>\n      <th>rank=2_count</th>\n      <th>rank=3_count</th>\n      <th>rank&gt;3_count</th>\n      <th>error_count</th>\n    </tr>\n  </thead>\n  <tbody>\n    <tr>\n      <th>count</th>\n      <td>601.000000</td>\n      <td>6.010000e+02</td>\n      <td>601.000000</td>\n      <td>601.000000</td>\n      <td>601.000000</td>\n      <td>601.000000</td>\n      <td>601.000000</td>\n      <td>601.000000</td>\n      <td>601.000000</td>\n      <td>601.000000</td>\n      <td>601.000000</td>\n      <td>601.000000</td>\n      <td>601.000000</td>\n    </tr>\n    <tr>\n      <th>mean</th>\n      <td>30.375095</td>\n      <td>2.256017e+05</td>\n      <td>0.001089</td>\n      <td>0.289747</td>\n      <td>0.101397</td>\n      <td>46.813422</td>\n      <td>16.470190</td>\n      <td>301.000000</td>\n      <td>0.121464</td>\n      <td>0.133111</td>\n      <td>0.119800</td>\n      <td>77.625624</td>\n      <td>9.184692</td>\n    </tr>\n    <tr>\n      <th>std</th>\n      <td>48.148224</td>\n      <td>5.521955e+05</td>\n      <td>0.001218</td>\n      <td>0.070691</td>\n      <td>0.059722</td>\n      <td>75.454596</td>\n      <td>13.204795</td>\n      <td>89.946774</td>\n      <td>0.378887</td>\n      <td>0.377163</td>\n      <td>0.377214</td>\n      <td>0.688919</td>\n      <td>6.622751</td>\n    </tr>\n    <tr>\n      <th>min</th>\n      <td>1.285028</td>\n      <td>9.484829e+04</td>\n      <td>0.000055</td>\n      <td>0.202583</td>\n      <td>0.051183</td>\n      <td>1.868745</td>\n      <td>2.018518</td>\n      <td>127.961538</td>\n      <td>0.000000</td>\n      <td>0.000000</td>\n      <td>0.000000</td>\n      <td>74.000000</td>\n      <td>0.000000</td>\n    </tr>\n    <tr>\n      <th>25%</th>\n      <td>7.792408</td>\n      <td>9.884947e+04</td>\n      <td>0.000097</td>\n      <td>0.254235</td>\n      <td>0.073272</td>\n      <td>11.042172</td>\n      <td>8.745046</td>\n      <td>246.570513</td>\n      <td>0.000000</td>\n      <td>0.000000</td>\n      <td>0.000000</td>\n      <td>77.000000</td>\n      <td>4.000000</td>\n    </tr>\n    <tr>\n      <th>50%</th>\n      <td>17.064932</td>\n      <td>9.965550e+04</td>\n      <td>0.000313</td>\n      <td>0.261837</td>\n      <td>0.081322</td>\n      <td>24.372176</td>\n      <td>13.772678</td>\n      <td>282.570513</td>\n      <td>0.000000</td>\n      <td>0.000000</td>\n      <td>0.000000</td>\n      <td>78.000000</td>\n      <td>8.000000</td>\n    </tr>\n    <tr>\n      <th>75%</th>\n      <td>31.696259</td>\n      <td>1.176416e+05</td>\n      <td>0.002360</td>\n      <td>0.333955</td>\n      <td>0.118363</td>\n      <td>48.262172</td>\n      <td>19.281611</td>\n      <td>374.852564</td>\n      <td>0.000000</td>\n      <td>0.000000</td>\n      <td>0.000000</td>\n      <td>78.000000</td>\n      <td>14.000000</td>\n    </tr>\n    <tr>\n      <th>max</th>\n      <td>438.775214</td>\n      <td>6.787876e+06</td>\n      <td>0.003324</td>\n      <td>0.665725</td>\n      <td>0.596340</td>\n      <td>602.365408</td>\n      <td>95.218106</td>\n      <td>565.814103</td>\n      <td>3.000000</td>\n      <td>2.000000</td>\n      <td>3.000000</td>\n      <td>78.000000</td>\n      <td>26.000000</td>\n    </tr>\n  </tbody>\n</table>\n</div>"
     },
     "execution_count": 4,
     "metadata": {},
     "output_type": "execute_result"
    }
   ],
   "source": [
    "df_results.describe()"
   ],
   "metadata": {
    "collapsed": false
   }
  },
  {
   "cell_type": "code",
   "execution_count": 5,
   "outputs": [
    {
     "data": {
      "text/plain": "   dataset      framework problem_type  time_train_s  metric_error  \\\n0   146818    CatBoost_c1       binary      0.666344       0.05093   \n1   146818    CatBoost_r1       binary      1.426103       0.05348   \n2   146818   CatBoost_r10       binary      0.517986       0.05772   \n3   146818  CatBoost_r100       binary      2.095968       0.04924   \n4   146818   CatBoost_r11       binary      0.565666       0.04839   \n\n   time_infer_s  bestdiff  loss_rescaled  time_train_s_rescaled  \\\n0      0.000059  0.500000       0.280374               5.912409   \n1      0.000055  0.523810       0.308411              12.653679   \n2      0.000053  0.558824       0.355140               4.596039   \n3      0.000063  0.482759       0.261682              18.597338   \n4      0.000053  0.473684       0.252336               5.019103   \n\n   time_infer_s_rescaled   rank  \n0               1.201007  188.0  \n1               1.133343  266.5  \n2               1.090645  360.5  \n3               1.297539  143.0  \n4               1.087737  125.5  ",
      "text/html": "<div>\n<style scoped>\n    .dataframe tbody tr th:only-of-type {\n        vertical-align: middle;\n    }\n\n    .dataframe tbody tr th {\n        vertical-align: top;\n    }\n\n    .dataframe thead th {\n        text-align: right;\n    }\n</style>\n<table border=\"1\" class=\"dataframe\">\n  <thead>\n    <tr style=\"text-align: right;\">\n      <th></th>\n      <th>dataset</th>\n      <th>framework</th>\n      <th>problem_type</th>\n      <th>time_train_s</th>\n      <th>metric_error</th>\n      <th>time_infer_s</th>\n      <th>bestdiff</th>\n      <th>loss_rescaled</th>\n      <th>time_train_s_rescaled</th>\n      <th>time_infer_s_rescaled</th>\n      <th>rank</th>\n    </tr>\n  </thead>\n  <tbody>\n    <tr>\n      <th>0</th>\n      <td>146818</td>\n      <td>CatBoost_c1</td>\n      <td>binary</td>\n      <td>0.666344</td>\n      <td>0.05093</td>\n      <td>0.000059</td>\n      <td>0.500000</td>\n      <td>0.280374</td>\n      <td>5.912409</td>\n      <td>1.201007</td>\n      <td>188.0</td>\n    </tr>\n    <tr>\n      <th>1</th>\n      <td>146818</td>\n      <td>CatBoost_r1</td>\n      <td>binary</td>\n      <td>1.426103</td>\n      <td>0.05348</td>\n      <td>0.000055</td>\n      <td>0.523810</td>\n      <td>0.308411</td>\n      <td>12.653679</td>\n      <td>1.133343</td>\n      <td>266.5</td>\n    </tr>\n    <tr>\n      <th>2</th>\n      <td>146818</td>\n      <td>CatBoost_r10</td>\n      <td>binary</td>\n      <td>0.517986</td>\n      <td>0.05772</td>\n      <td>0.000053</td>\n      <td>0.558824</td>\n      <td>0.355140</td>\n      <td>4.596039</td>\n      <td>1.090645</td>\n      <td>360.5</td>\n    </tr>\n    <tr>\n      <th>3</th>\n      <td>146818</td>\n      <td>CatBoost_r100</td>\n      <td>binary</td>\n      <td>2.095968</td>\n      <td>0.04924</td>\n      <td>0.000063</td>\n      <td>0.482759</td>\n      <td>0.261682</td>\n      <td>18.597338</td>\n      <td>1.297539</td>\n      <td>143.0</td>\n    </tr>\n    <tr>\n      <th>4</th>\n      <td>146818</td>\n      <td>CatBoost_r11</td>\n      <td>binary</td>\n      <td>0.565666</td>\n      <td>0.04839</td>\n      <td>0.000053</td>\n      <td>0.473684</td>\n      <td>0.252336</td>\n      <td>5.019103</td>\n      <td>1.087737</td>\n      <td>125.5</td>\n    </tr>\n  </tbody>\n</table>\n</div>"
     },
     "execution_count": 5,
     "metadata": {},
     "output_type": "execute_result"
    }
   ],
   "source": [
    "df_results_by_dataset.head()"
   ],
   "metadata": {
    "collapsed": false
   }
  },
  {
   "cell_type": "code",
   "execution_count": 6,
   "outputs": [
    {
     "data": {
      "text/plain": "             dataset  time_train_s  metric_error  time_infer_s      bestdiff  \\\ncount   46878.000000  46878.000000  4.687800e+04  4.687800e+04  46878.000000   \nmean   304552.782051     30.375095  2.256017e+05  1.088800e-03      0.289747   \nstd     91368.907244    106.388388  5.239779e+06  1.335562e-02      0.277971   \nmin      2073.000000      0.076696  0.000000e+00  1.471799e-07      0.000000   \n25%    233211.000000      1.147695  6.768000e-02  1.538275e-05      0.063338   \n50%    359947.000000      4.033291  2.177050e-01  3.649554e-05      0.180601   \n75%    359969.000000     17.152053  1.059727e+00  9.679875e-05      0.442134   \nmax    360945.000000   3842.981932  5.292100e+08  2.418341e-01      0.999996   \n\n       loss_rescaled  time_train_s_rescaled  time_infer_s_rescaled  \\\ncount   46878.000000           46878.000000           46878.000000   \nmean        0.101397              46.813422              16.470190   \nstd         0.155349             147.759290              50.959736   \nmin         0.000000               1.000000               1.000000   \n25%         0.010018               4.010172               2.687013   \n50%         0.035490              10.384360               5.983806   \n75%         0.125617              31.407201              14.299280   \nmax         1.000000            4293.159358            3299.374874   \n\n               rank  \ncount  46878.000000  \nmean     301.000000  \nstd      173.433793  \nmin        1.000000  \n25%      150.000000  \n50%      300.000000  \n75%      452.000000  \nmax      601.000000  ",
      "text/html": "<div>\n<style scoped>\n    .dataframe tbody tr th:only-of-type {\n        vertical-align: middle;\n    }\n\n    .dataframe tbody tr th {\n        vertical-align: top;\n    }\n\n    .dataframe thead th {\n        text-align: right;\n    }\n</style>\n<table border=\"1\" class=\"dataframe\">\n  <thead>\n    <tr style=\"text-align: right;\">\n      <th></th>\n      <th>dataset</th>\n      <th>time_train_s</th>\n      <th>metric_error</th>\n      <th>time_infer_s</th>\n      <th>bestdiff</th>\n      <th>loss_rescaled</th>\n      <th>time_train_s_rescaled</th>\n      <th>time_infer_s_rescaled</th>\n      <th>rank</th>\n    </tr>\n  </thead>\n  <tbody>\n    <tr>\n      <th>count</th>\n      <td>46878.000000</td>\n      <td>46878.000000</td>\n      <td>4.687800e+04</td>\n      <td>4.687800e+04</td>\n      <td>46878.000000</td>\n      <td>46878.000000</td>\n      <td>46878.000000</td>\n      <td>46878.000000</td>\n      <td>46878.000000</td>\n    </tr>\n    <tr>\n      <th>mean</th>\n      <td>304552.782051</td>\n      <td>30.375095</td>\n      <td>2.256017e+05</td>\n      <td>1.088800e-03</td>\n      <td>0.289747</td>\n      <td>0.101397</td>\n      <td>46.813422</td>\n      <td>16.470190</td>\n      <td>301.000000</td>\n    </tr>\n    <tr>\n      <th>std</th>\n      <td>91368.907244</td>\n      <td>106.388388</td>\n      <td>5.239779e+06</td>\n      <td>1.335562e-02</td>\n      <td>0.277971</td>\n      <td>0.155349</td>\n      <td>147.759290</td>\n      <td>50.959736</td>\n      <td>173.433793</td>\n    </tr>\n    <tr>\n      <th>min</th>\n      <td>2073.000000</td>\n      <td>0.076696</td>\n      <td>0.000000e+00</td>\n      <td>1.471799e-07</td>\n      <td>0.000000</td>\n      <td>0.000000</td>\n      <td>1.000000</td>\n      <td>1.000000</td>\n      <td>1.000000</td>\n    </tr>\n    <tr>\n      <th>25%</th>\n      <td>233211.000000</td>\n      <td>1.147695</td>\n      <td>6.768000e-02</td>\n      <td>1.538275e-05</td>\n      <td>0.063338</td>\n      <td>0.010018</td>\n      <td>4.010172</td>\n      <td>2.687013</td>\n      <td>150.000000</td>\n    </tr>\n    <tr>\n      <th>50%</th>\n      <td>359947.000000</td>\n      <td>4.033291</td>\n      <td>2.177050e-01</td>\n      <td>3.649554e-05</td>\n      <td>0.180601</td>\n      <td>0.035490</td>\n      <td>10.384360</td>\n      <td>5.983806</td>\n      <td>300.000000</td>\n    </tr>\n    <tr>\n      <th>75%</th>\n      <td>359969.000000</td>\n      <td>17.152053</td>\n      <td>1.059727e+00</td>\n      <td>9.679875e-05</td>\n      <td>0.442134</td>\n      <td>0.125617</td>\n      <td>31.407201</td>\n      <td>14.299280</td>\n      <td>452.000000</td>\n    </tr>\n    <tr>\n      <th>max</th>\n      <td>360945.000000</td>\n      <td>3842.981932</td>\n      <td>5.292100e+08</td>\n      <td>2.418341e-01</td>\n      <td>0.999996</td>\n      <td>1.000000</td>\n      <td>4293.159358</td>\n      <td>3299.374874</td>\n      <td>601.000000</td>\n    </tr>\n  </tbody>\n</table>\n</div>"
     },
     "execution_count": 6,
     "metadata": {},
     "output_type": "execute_result"
    }
   ],
   "source": [
    "df_results_by_dataset.describe()"
   ],
   "metadata": {
    "collapsed": false
   }
  },
  {
   "cell_type": "code",
   "execution_count": 7,
   "outputs": [
    {
     "data": {
      "text/plain": "      tid                                ttid    did                     name  \\\n0    2073  TaskType.SUPERVISED_CLASSIFICATION    181                    yeast   \n1    3945  TaskType.SUPERVISED_CLASSIFICATION   1111       KDDCup09_appetency   \n2    7593  TaskType.SUPERVISED_CLASSIFICATION   1596                covertype   \n3   10090  TaskType.SUPERVISED_CLASSIFICATION   1457  amazon-commerce-reviews   \n4  146818  TaskType.SUPERVISED_CLASSIFICATION  40981               Australian   \n\n                   task_type  status     estimation_procedure  \\\n0  Supervised Classification  active  10-fold Crossvalidation   \n1  Supervised Classification  active  10-fold Crossvalidation   \n2  Supervised Classification  active  10-fold Crossvalidation   \n3  Supervised Classification  active  10-fold Crossvalidation   \n4  Supervised Classification  active  10-fold Crossvalidation   \n\n   evaluation_measures  source_data              target_feature  ...  \\\n0  predictive_accuracy          181  class_protein_localization  ...   \n1  predictive_accuracy         1111                   APPETENCY  ...   \n2                  NaN         1596                       class  ...   \n3  predictive_accuracy         1457                       Class  ...   \n4                  NaN        40981                         A15  ...   \n\n   NumberOfNumericFeatures  NumberOfSymbolicFeatures  number_samples  \\\n0                      8.0                       1.0             NaN   \n1                    192.0                      39.0             NaN   \n2                     10.0                      45.0             NaN   \n3                  10000.0                       1.0             NaN   \n4                      6.0                       9.0             NaN   \n\n   cost_matrix  source_data_labeled  target_feature_event  \\\n0          NaN                  NaN                   NaN   \n1          NaN                  NaN                   NaN   \n2          NaN                  NaN                   NaN   \n3          NaN                  NaN                   NaN   \n4          NaN                  NaN                   NaN   \n\n   target_feature_left  target_feature_right  quality_measure  target_value  \n0                  NaN                   NaN              NaN           NaN  \n1                  NaN                   NaN              NaN           NaN  \n2                  NaN                   NaN              NaN           NaN  \n3                  NaN                   NaN              NaN           NaN  \n4                  NaN                   NaN              NaN           NaN  \n\n[5 rows x 28 columns]",
      "text/html": "<div>\n<style scoped>\n    .dataframe tbody tr th:only-of-type {\n        vertical-align: middle;\n    }\n\n    .dataframe tbody tr th {\n        vertical-align: top;\n    }\n\n    .dataframe thead th {\n        text-align: right;\n    }\n</style>\n<table border=\"1\" class=\"dataframe\">\n  <thead>\n    <tr style=\"text-align: right;\">\n      <th></th>\n      <th>tid</th>\n      <th>ttid</th>\n      <th>did</th>\n      <th>name</th>\n      <th>task_type</th>\n      <th>status</th>\n      <th>estimation_procedure</th>\n      <th>evaluation_measures</th>\n      <th>source_data</th>\n      <th>target_feature</th>\n      <th>...</th>\n      <th>NumberOfNumericFeatures</th>\n      <th>NumberOfSymbolicFeatures</th>\n      <th>number_samples</th>\n      <th>cost_matrix</th>\n      <th>source_data_labeled</th>\n      <th>target_feature_event</th>\n      <th>target_feature_left</th>\n      <th>target_feature_right</th>\n      <th>quality_measure</th>\n      <th>target_value</th>\n    </tr>\n  </thead>\n  <tbody>\n    <tr>\n      <th>0</th>\n      <td>2073</td>\n      <td>TaskType.SUPERVISED_CLASSIFICATION</td>\n      <td>181</td>\n      <td>yeast</td>\n      <td>Supervised Classification</td>\n      <td>active</td>\n      <td>10-fold Crossvalidation</td>\n      <td>predictive_accuracy</td>\n      <td>181</td>\n      <td>class_protein_localization</td>\n      <td>...</td>\n      <td>8.0</td>\n      <td>1.0</td>\n      <td>NaN</td>\n      <td>NaN</td>\n      <td>NaN</td>\n      <td>NaN</td>\n      <td>NaN</td>\n      <td>NaN</td>\n      <td>NaN</td>\n      <td>NaN</td>\n    </tr>\n    <tr>\n      <th>1</th>\n      <td>3945</td>\n      <td>TaskType.SUPERVISED_CLASSIFICATION</td>\n      <td>1111</td>\n      <td>KDDCup09_appetency</td>\n      <td>Supervised Classification</td>\n      <td>active</td>\n      <td>10-fold Crossvalidation</td>\n      <td>predictive_accuracy</td>\n      <td>1111</td>\n      <td>APPETENCY</td>\n      <td>...</td>\n      <td>192.0</td>\n      <td>39.0</td>\n      <td>NaN</td>\n      <td>NaN</td>\n      <td>NaN</td>\n      <td>NaN</td>\n      <td>NaN</td>\n      <td>NaN</td>\n      <td>NaN</td>\n      <td>NaN</td>\n    </tr>\n    <tr>\n      <th>2</th>\n      <td>7593</td>\n      <td>TaskType.SUPERVISED_CLASSIFICATION</td>\n      <td>1596</td>\n      <td>covertype</td>\n      <td>Supervised Classification</td>\n      <td>active</td>\n      <td>10-fold Crossvalidation</td>\n      <td>NaN</td>\n      <td>1596</td>\n      <td>class</td>\n      <td>...</td>\n      <td>10.0</td>\n      <td>45.0</td>\n      <td>NaN</td>\n      <td>NaN</td>\n      <td>NaN</td>\n      <td>NaN</td>\n      <td>NaN</td>\n      <td>NaN</td>\n      <td>NaN</td>\n      <td>NaN</td>\n    </tr>\n    <tr>\n      <th>3</th>\n      <td>10090</td>\n      <td>TaskType.SUPERVISED_CLASSIFICATION</td>\n      <td>1457</td>\n      <td>amazon-commerce-reviews</td>\n      <td>Supervised Classification</td>\n      <td>active</td>\n      <td>10-fold Crossvalidation</td>\n      <td>predictive_accuracy</td>\n      <td>1457</td>\n      <td>Class</td>\n      <td>...</td>\n      <td>10000.0</td>\n      <td>1.0</td>\n      <td>NaN</td>\n      <td>NaN</td>\n      <td>NaN</td>\n      <td>NaN</td>\n      <td>NaN</td>\n      <td>NaN</td>\n      <td>NaN</td>\n      <td>NaN</td>\n    </tr>\n    <tr>\n      <th>4</th>\n      <td>146818</td>\n      <td>TaskType.SUPERVISED_CLASSIFICATION</td>\n      <td>40981</td>\n      <td>Australian</td>\n      <td>Supervised Classification</td>\n      <td>active</td>\n      <td>10-fold Crossvalidation</td>\n      <td>NaN</td>\n      <td>40981</td>\n      <td>A15</td>\n      <td>...</td>\n      <td>6.0</td>\n      <td>9.0</td>\n      <td>NaN</td>\n      <td>NaN</td>\n      <td>NaN</td>\n      <td>NaN</td>\n      <td>NaN</td>\n      <td>NaN</td>\n      <td>NaN</td>\n      <td>NaN</td>\n    </tr>\n  </tbody>\n</table>\n<p>5 rows × 28 columns</p>\n</div>"
     },
     "execution_count": 7,
     "metadata": {},
     "output_type": "execute_result"
    }
   ],
   "source": [
    "df_metadata.head()"
   ],
   "metadata": {
    "collapsed": false
   }
  },
  {
   "cell_type": "code",
   "execution_count": 8,
   "outputs": [
    {
     "data": {
      "text/plain": "146818    601\n359960    601\n359968    601\n359967    601\n359966    601\n         ... \n359933    601\n359932    601\n359931    601\n359930    601\n3945      601\nName: dataset, Length: 78, dtype: int64"
     },
     "execution_count": 8,
     "metadata": {},
     "output_type": "execute_result"
    }
   ],
   "source": [
    "df_results_by_dataset['dataset'].value_counts()"
   ],
   "metadata": {
    "collapsed": false
   }
  },
  {
   "cell_type": "code",
   "execution_count": 9,
   "outputs": [
    {
     "data": {
      "text/plain": "CatBoost_c1           78\nNeuralNetTorch_r95    78\nNeuralNetTorch_r97    78\nNeuralNetTorch_r98    78\nNeuralNetTorch_r99    78\n                      ..\nLightGBM_r96          78\nLightGBM_r97          78\nLightGBM_r98          78\nLightGBM_r99          78\nXGBoost_r99           78\nName: framework, Length: 601, dtype: int64"
     },
     "execution_count": 9,
     "metadata": {},
     "output_type": "execute_result"
    }
   ],
   "source": [
    "df_results_by_dataset['framework'].value_counts()"
   ],
   "metadata": {
    "collapsed": false
   }
  },
  {
   "cell_type": "code",
   "execution_count": 10,
   "outputs": [],
   "source": [
    "# dataset is complete, all good."
   ],
   "metadata": {
    "collapsed": false
   }
  },
  {
   "cell_type": "markdown",
   "source": [
    "# Add validation score column"
   ],
   "metadata": {
    "collapsed": false
   }
  },
  {
   "cell_type": "code",
   "execution_count": 11,
   "outputs": [
    {
     "data": {
      "text/plain": "   dataset      framework problem_type  time_train_s  metric_error  \\\n0   146818    CatBoost_c1       binary      0.666344       0.05093   \n1   146818    CatBoost_r1       binary      1.426103       0.05348   \n2   146818   CatBoost_r10       binary      0.517986       0.05772   \n3   146818  CatBoost_r100       binary      2.095968       0.04924   \n4   146818   CatBoost_r11       binary      0.565666       0.04839   \n\n   time_infer_s  bestdiff  loss_rescaled  time_train_s_rescaled  \\\n0      0.000059  0.500000       0.280374               5.912409   \n1      0.000055  0.523810       0.308411              12.653679   \n2      0.000053  0.558824       0.355140               4.596039   \n3      0.000063  0.482759       0.261682              18.597338   \n4      0.000053  0.473684       0.252336               5.019103   \n\n   time_infer_s_rescaled   rank  score_val  \n0               1.201007  188.0   0.925983  \n1               1.133343  266.5   0.912008  \n2               1.090645  360.5   0.925983  \n3               1.297539  143.0   0.925725  \n4               1.087737  125.5   0.930124  ",
      "text/html": "<div>\n<style scoped>\n    .dataframe tbody tr th:only-of-type {\n        vertical-align: middle;\n    }\n\n    .dataframe tbody tr th {\n        vertical-align: top;\n    }\n\n    .dataframe thead th {\n        text-align: right;\n    }\n</style>\n<table border=\"1\" class=\"dataframe\">\n  <thead>\n    <tr style=\"text-align: right;\">\n      <th></th>\n      <th>dataset</th>\n      <th>framework</th>\n      <th>problem_type</th>\n      <th>time_train_s</th>\n      <th>metric_error</th>\n      <th>time_infer_s</th>\n      <th>bestdiff</th>\n      <th>loss_rescaled</th>\n      <th>time_train_s_rescaled</th>\n      <th>time_infer_s_rescaled</th>\n      <th>rank</th>\n      <th>score_val</th>\n    </tr>\n  </thead>\n  <tbody>\n    <tr>\n      <th>0</th>\n      <td>146818</td>\n      <td>CatBoost_c1</td>\n      <td>binary</td>\n      <td>0.666344</td>\n      <td>0.05093</td>\n      <td>0.000059</td>\n      <td>0.500000</td>\n      <td>0.280374</td>\n      <td>5.912409</td>\n      <td>1.201007</td>\n      <td>188.0</td>\n      <td>0.925983</td>\n    </tr>\n    <tr>\n      <th>1</th>\n      <td>146818</td>\n      <td>CatBoost_r1</td>\n      <td>binary</td>\n      <td>1.426103</td>\n      <td>0.05348</td>\n      <td>0.000055</td>\n      <td>0.523810</td>\n      <td>0.308411</td>\n      <td>12.653679</td>\n      <td>1.133343</td>\n      <td>266.5</td>\n      <td>0.912008</td>\n    </tr>\n    <tr>\n      <th>2</th>\n      <td>146818</td>\n      <td>CatBoost_r10</td>\n      <td>binary</td>\n      <td>0.517986</td>\n      <td>0.05772</td>\n      <td>0.000053</td>\n      <td>0.558824</td>\n      <td>0.355140</td>\n      <td>4.596039</td>\n      <td>1.090645</td>\n      <td>360.5</td>\n      <td>0.925983</td>\n    </tr>\n    <tr>\n      <th>3</th>\n      <td>146818</td>\n      <td>CatBoost_r100</td>\n      <td>binary</td>\n      <td>2.095968</td>\n      <td>0.04924</td>\n      <td>0.000063</td>\n      <td>0.482759</td>\n      <td>0.261682</td>\n      <td>18.597338</td>\n      <td>1.297539</td>\n      <td>143.0</td>\n      <td>0.925725</td>\n    </tr>\n    <tr>\n      <th>4</th>\n      <td>146818</td>\n      <td>CatBoost_r11</td>\n      <td>binary</td>\n      <td>0.565666</td>\n      <td>0.04839</td>\n      <td>0.000053</td>\n      <td>0.473684</td>\n      <td>0.252336</td>\n      <td>5.019103</td>\n      <td>1.087737</td>\n      <td>125.5</td>\n      <td>0.930124</td>\n    </tr>\n  </tbody>\n</table>\n</div>"
     },
     "execution_count": 11,
     "metadata": {},
     "output_type": "execute_result"
    }
   ],
   "source": [
    "df_raw_zoom = df_raw[['model', 'tid', 'score_val']].copy()\n",
    "df_raw_zoom['dataset'] = df_raw_zoom['tid'].astype(int)\n",
    "df_raw_zoom['framework'] = df_raw_zoom['model']\n",
    "df_raw_zoom = df_raw_zoom[['framework', 'dataset', 'score_val']]\n",
    "df_results_by_dataset_with_score_val = df_results_by_dataset.merge(df_raw_zoom, on=['framework', 'dataset'])\n",
    "df_results_by_dataset_with_score_val.head()"
   ],
   "metadata": {
    "collapsed": false
   }
  },
  {
   "cell_type": "markdown",
   "source": [
    "## Zero shot performance check"
   ],
   "metadata": {
    "collapsed": false
   }
  },
  {
   "cell_type": "code",
   "execution_count": 12,
   "outputs": [],
   "source": [
    "class SingleBestConfigScorer:\n",
    "    def __init__(self,\n",
    "                 df_results_by_dataset_with_score_val: pd.DataFrame,\n",
    "                 score_col: str = 'rank',\n",
    "                 score_val_col: str = 'score_val',\n",
    "                 model_col: str = 'framework',\n",
    "                 dataset_col: str = 'dataset'):\n",
    "        self.score_col = score_col\n",
    "        self.score_val_col = score_val_col\n",
    "        self.model_col = model_col\n",
    "        self.dataset_col = dataset_col\n",
    "        self.df_results_by_dataset_with_score_val = df_results_by_dataset_with_score_val\n",
    "        self.df_pivot_val = self.df_results_by_dataset_with_score_val.pivot_table(index=self.model_col, columns=self.dataset_col, values=self.score_val_col)\n",
    "\n",
    "\n",
    "    def get_configs_df(self, configs: list) -> pd.DataFrame:\n",
    "        best_val_model_series = self.df_pivot_val.loc[configs].idxmax(axis=0).to_frame(name=self.model_col)\n",
    "        best_val_model_by_dataset_df = self.df_results_by_dataset_with_score_val.merge(best_val_model_series, on=[self.dataset_col, self.model_col])\n",
    "        return best_val_model_by_dataset_df\n",
    "\n",
    "    def score(self, configs: list) -> float:\n",
    "        best_val_model_by_dataset_df = self.get_configs_df(configs=configs)\n",
    "        avg_error_real = best_val_model_by_dataset_df[self.score_col].mean()\n",
    "        # this is the error without knowing the test score of each model and oracle picking the best, instead using validation score to pick best\n",
    "        return avg_error_real\n"
   ],
   "metadata": {
    "collapsed": false
   }
  },
  {
   "cell_type": "markdown",
   "source": [
    "## AutoGluon baseline configs performance"
   ],
   "metadata": {
    "collapsed": false
   }
  },
  {
   "cell_type": "code",
   "execution_count": 13,
   "outputs": [],
   "source": [
    "config_scorer = SingleBestConfigScorer(df_results_by_dataset_with_score_val=df_results_by_dataset_with_score_val)"
   ],
   "metadata": {
    "collapsed": false
   }
  },
  {
   "cell_type": "code",
   "execution_count": 14,
   "outputs": [],
   "source": [
    "autogluon_configs = ['CatBoost_c1', 'LightGBM_c1', 'LightGBM_c2', 'LightGBM_c3', 'XGBoost_c1', 'NeuralNetTorch_c1', 'NeuralNetFastAI_c1']"
   ],
   "metadata": {
    "collapsed": false
   }
  },
  {
   "cell_type": "code",
   "execution_count": 15,
   "outputs": [
    {
     "data": {
      "text/plain": "176.25"
     },
     "execution_count": 15,
     "metadata": {},
     "output_type": "execute_result"
    }
   ],
   "source": [
    "avg_rank_ag = config_scorer.score(autogluon_configs)\n",
    "avg_rank_ag  # this is the error without knowing the test score of each model and oracle picking the best, instead using validation score to pick best"
   ],
   "metadata": {
    "collapsed": false
   }
  },
  {
   "cell_type": "markdown",
   "source": [
    "Selecting zeroshot config instead ..."
   ],
   "metadata": {
    "collapsed": false
   }
  },
  {
   "cell_type": "code",
   "execution_count": 16,
   "outputs": [],
   "source": [
    "import copy\n",
    "\n",
    "\n",
    "class ZeroshotConfigGenerator:\n",
    "    def __init__(self, config_scorer: SingleBestConfigScorer):\n",
    "        self.config_scorer = config_scorer\n",
    "        self.all_configs = list(self.config_scorer.df_pivot_val.index)\n",
    "\n",
    "    def select_zeroshot_configs(self, num_zeroshot: int, zeroshot_configs: list = None, removal_stage=True, removal_threshold=0) -> list:\n",
    "        if zeroshot_configs is None:\n",
    "            zeroshot_configs = []\n",
    "        else:\n",
    "            zeroshot_configs = copy.deepcopy(zeroshot_configs)\n",
    "\n",
    "        iteration = 0\n",
    "        while len(zeroshot_configs) < num_zeroshot:\n",
    "            iteration += 1\n",
    "            # greedily search the config that would yield the lowest average rank if we were to evaluate it in combination\n",
    "            # with previously chosen configs.\n",
    "            best_next_config = None\n",
    "            best_score = 999999999\n",
    "            for config in self.all_configs:\n",
    "                if config in zeroshot_configs:\n",
    "                    continue\n",
    "                else:\n",
    "                    config_selected = zeroshot_configs + [config]\n",
    "                    config_score = self.config_scorer.score(config_selected)\n",
    "                    if config_score < best_score:\n",
    "                        best_score = config_score\n",
    "                        best_next_config = config\n",
    "\n",
    "            zeroshot_configs.append(best_next_config)\n",
    "            print(f'{iteration}: {best_score} {best_next_config}')\n",
    "\n",
    "        if removal_stage:\n",
    "            zeroshot_configs = self.prune_zeroshot_configs(zeroshot_configs, removal_threshold=removal_threshold)\n",
    "        print(f\"selected {zeroshot_configs}\")\n",
    "        return zeroshot_configs\n",
    "\n",
    "    def prune_zeroshot_configs(self, zeroshot_configs: list, removal_threshold=0) -> list:\n",
    "        zeroshot_configs = copy.deepcopy(zeroshot_configs)\n",
    "        best_score = self.config_scorer.score(zeroshot_configs)\n",
    "        finished_removal = False\n",
    "        while not finished_removal:\n",
    "            best_remove_config = None\n",
    "            for config in zeroshot_configs:\n",
    "                config_selected = [c for c in zeroshot_configs if c != config]\n",
    "                config_score = self.config_scorer.score(config_selected)\n",
    "\n",
    "                if best_remove_config is None:\n",
    "                    if config_score <= (best_score + removal_threshold):\n",
    "                        best_score = config_score\n",
    "                        best_remove_config = config\n",
    "                else:\n",
    "                    if config_score <= best_score:\n",
    "                        best_score = config_score\n",
    "                        best_remove_config = config\n",
    "            if best_remove_config is not None:\n",
    "                print(f'REMOVING: {best_score} | {best_remove_config}')\n",
    "                zeroshot_configs.remove(best_remove_config)\n",
    "            else:\n",
    "                finished_removal = True\n",
    "        return zeroshot_configs\n"
   ],
   "metadata": {
    "collapsed": false
   }
  },
  {
   "cell_type": "code",
   "execution_count": 17,
   "outputs": [],
   "source": [
    "zs_config_generator = ZeroshotConfigGenerator(config_scorer=config_scorer)"
   ],
   "metadata": {
    "collapsed": false
   }
  },
  {
   "cell_type": "code",
   "execution_count": 18,
   "outputs": [
    {
     "name": "stdout",
     "output_type": "stream",
     "text": [
      "1: 127.96153846153847 CatBoost_r62\n",
      "2: 113.30128205128206 NeuralNetFastAI_r52\n",
      "3: 100.8525641025641 CatBoost_r92\n",
      "4: 91.56410256410257 CatBoost_r84\n",
      "5: 83.76923076923077 LightGBM_r3\n",
      "6: 79.33974358974359 LightGBM_r82\n",
      "7: 76.51282051282051 NeuralNetFastAI_r4\n",
      "8: 73.22435897435898 NeuralNetFastAI_r100\n",
      "9: 69.97435897435898 CatBoost_r28\n",
      "10: 67.2051282051282 NeuralNetFastAI_r73\n",
      "11: 63.71153846153846 LightGBM_r27\n",
      "12: 60.63461538461539 CatBoost_r24\n",
      "13: 57.77564102564103 NeuralNetFastAI_r2\n",
      "14: 56.10897435897436 LightGBM_r88\n",
      "15: 54.416666666666664 NeuralNetFastAI_r10\n",
      "16: 53.19230769230769 LightGBM_r7\n",
      "17: 52.044871794871796 CatBoost_r37\n",
      "18: 51.10897435897436 NeuralNetTorch_r14\n",
      "19: 50.294871794871796 CatBoost_r86\n",
      "20: 49.62179487179487 CatBoost_r56\n",
      "21: 49.12179487179487 CatBoost_r94\n",
      "22: 48.63461538461539 CatBoost_r69\n",
      "23: 47.86538461538461 CatBoost_r30\n",
      "24: 47.506410256410255 NeuralNetFastAI_r16\n",
      "25: 47.25 NeuralNetFastAI_r17\n",
      "selected ['CatBoost_r62', 'NeuralNetFastAI_r52', 'CatBoost_r92', 'CatBoost_r84', 'LightGBM_r3', 'LightGBM_r82', 'NeuralNetFastAI_r4', 'NeuralNetFastAI_r100', 'CatBoost_r28', 'NeuralNetFastAI_r73', 'LightGBM_r27', 'CatBoost_r24', 'NeuralNetFastAI_r2', 'LightGBM_r88', 'NeuralNetFastAI_r10', 'LightGBM_r7', 'CatBoost_r37', 'NeuralNetTorch_r14', 'CatBoost_r86', 'CatBoost_r56', 'CatBoost_r94', 'CatBoost_r69', 'CatBoost_r30', 'NeuralNetFastAI_r16', 'NeuralNetFastAI_r17']\n"
     ]
    }
   ],
   "source": [
    "zeroshot_configs = zs_config_generator.select_zeroshot_configs(25, removal_stage=False)"
   ],
   "metadata": {
    "collapsed": false
   }
  },
  {
   "cell_type": "code",
   "execution_count": 19,
   "outputs": [
    {
     "name": "stdout",
     "output_type": "stream",
     "text": [
      "REMOVING: 46.717948717948715 | CatBoost_r92\n",
      "REMOVING: 46.48717948717949 | CatBoost_r94\n",
      "REMOVING: 46.5 | CatBoost_r37\n",
      "REMOVING: 46.756410256410255 | NeuralNetFastAI_r17\n",
      "REMOVING: 47.11538461538461 | NeuralNetFastAI_r16\n"
     ]
    }
   ],
   "source": [
    "# deleting\n",
    "zeroshot_configs = zs_config_generator.prune_zeroshot_configs(zeroshot_configs, removal_threshold=0.5)"
   ],
   "metadata": {
    "collapsed": false
   }
  },
  {
   "cell_type": "code",
   "execution_count": 20,
   "outputs": [
    {
     "data": {
      "text/plain": "['CatBoost_r62',\n 'NeuralNetFastAI_r52',\n 'CatBoost_r84',\n 'LightGBM_r3',\n 'LightGBM_r82',\n 'NeuralNetFastAI_r4',\n 'NeuralNetFastAI_r100',\n 'CatBoost_r28',\n 'NeuralNetFastAI_r73',\n 'LightGBM_r27',\n 'CatBoost_r24',\n 'NeuralNetFastAI_r2',\n 'LightGBM_r88',\n 'NeuralNetFastAI_r10',\n 'LightGBM_r7',\n 'NeuralNetTorch_r14',\n 'CatBoost_r86',\n 'CatBoost_r56',\n 'CatBoost_r69',\n 'CatBoost_r30']"
     },
     "execution_count": 20,
     "metadata": {},
     "output_type": "execute_result"
    }
   ],
   "source": [
    "zeroshot_configs"
   ],
   "metadata": {
    "collapsed": false
   }
  },
  {
   "cell_type": "code",
   "execution_count": 21,
   "outputs": [
    {
     "data": {
      "text/plain": "47.11538461538461"
     },
     "execution_count": 21,
     "metadata": {},
     "output_type": "execute_result"
    }
   ],
   "source": [
    "avg_rank = config_scorer.score(zeroshot_configs)\n",
    "avg_rank"
   ],
   "metadata": {
    "collapsed": false
   }
  },
  {
   "cell_type": "code",
   "execution_count": 22,
   "outputs": [],
   "source": [
    "zs_configs = zeroshot_configs"
   ],
   "metadata": {
    "collapsed": false
   }
  },
  {
   "cell_type": "code",
   "execution_count": 23,
   "outputs": [
    {
     "name": "stdout",
     "output_type": "stream",
     "text": [
      "1: 127.96153846153847\n",
      "2: 113.30128205128206\n",
      "3: 104.41666666666667\n",
      "4: 96.9423076923077\n",
      "5: 92.84615384615384\n",
      "6: 90.01923076923077\n",
      "7: 86.3076923076923\n",
      "8: 75.11538461538461\n",
      "9: 72.34615384615384\n",
      "10: 66.91666666666667\n",
      "11: 65.43589743589743\n",
      "12: 62.57692307692308\n",
      "13: 60.91025641025641\n",
      "14: 59.217948717948715\n",
      "15: 57.993589743589745\n",
      "16: 57.05769230769231\n",
      "17: 56.243589743589745\n",
      "18: 50.51923076923077\n",
      "19: 50.032051282051285\n",
      "20: 47.11538461538461\n"
     ]
    }
   ],
   "source": [
    "for i in range(1, len(zs_configs)+1):\n",
    "    avg_rank = config_scorer.score(zs_configs[:i])\n",
    "    # this is the error without knowing the test score of each model and oracle picking the best, instead using validation score to pick best\n",
    "    print(f'{i}: {avg_rank}')"
   ],
   "metadata": {
    "collapsed": false
   }
  },
  {
   "cell_type": "markdown",
   "source": [
    "We now plot the % improvement in average rank we would obtain if we were to increase the number of zeroshot.\n",
    "There are few key points:\n",
    "* based on the simulation of picking the best validation score of a model and using the test score of that model. This means more models does not necessarily mean better results.\n",
    "* it will **increase** if we sample more datasets as we will be able to select more precisely candidates (allowing to cover configuration for cases such as small datasets, noisy datasets, etc)\n",
    "* the runtime to evaluate $N$ configurations would **not have to grow linearly** since we can apply successful halving (See ZASHA doc), if early epoch/round results are somehow predictive of final performance, running $N$ configurations can be done by multiplying the budget by a constant (given that successful halving applies exponential decay to select the configurations allowed to run longer)"
   ],
   "metadata": {
    "collapsed": false
   }
  },
  {
   "cell_type": "code",
   "execution_count": 24,
   "outputs": [
    {
     "data": {
      "text/plain": "<Figure size 432x288 with 1 Axes>",
      "image/png": "[encoded data removed]"
     },
     "metadata": {
      "needs_background": "light"
     },
     "output_type": "display_data"
    }
   ],
   "source": [
    "import matplotlib.pyplot as plt\n",
    "improvements = []\n",
    "for i in range(1, len(zs_configs)+1):\n",
    "    avg_rank_zs = config_scorer.score(zs_configs[:i])\n",
    "    improvement = (avg_rank_ag / avg_rank_zs - 1) * 100\n",
    "    improvements.append(improvement)\n",
    "plt.plot(range(1, len(zs_configs)+1), improvements, marker=\"+\")\n",
    "plt.xlabel(\"Number of zero-shot configurations\")\n",
    "plt.ylabel(\"% Improvement over AG configurations\")\n",
    "plt.ylim([0, None]);"
   ],
   "metadata": {
    "collapsed": false
   }
  },
  {
   "cell_type": "code",
   "execution_count": 25,
   "outputs": [
    {
     "name": "stdout",
     "output_type": "stream",
     "text": [
      "average time autogluon/zeroshot configs: 89.00145701567332/638.1293441546269\n"
     ]
    }
   ],
   "source": [
    "# form (n_configuration, n_dataset) matrix\n",
    "df_pivot_time_train_s = df_results_by_dataset_with_score_val.pivot_table(index='framework', columns='dataset', values=['time_train_s'])\n",
    "avg_time_ag = df_pivot_time_train_s.loc[autogluon_configs]['time_train_s'].sum().mean()\n",
    "avg_time_zeroshot = df_pivot_time_train_s.loc[zeroshot_configs]['time_train_s'].sum().mean()\n",
    "print(f\"average time autogluon/zeroshot configs: {avg_time_ag}/{avg_time_zeroshot}\")"
   ],
   "metadata": {
    "collapsed": false
   }
  },
  {
   "cell_type": "markdown",
   "source": [
    "## Next steps (From David):\n",
    "* obtain epoch or round metrics to evaluate ASHA\n",
    "* reproduce analysis on other frameworks once data is available\n",
    "* validate evaluation protocol to benchmark HPO:\n",
    "    * what would be a reasonable number of configuration to be evaluated in total? (realistic for AG)\n",
    "    * how many workers?\n",
    "* clarify next steps in term of evaluations, I propose the following one\n",
    "    * evaluate gain in AG if replace the current 4 config by zero-shot configurations\n",
    "    * evaluate zero-shot + ASHA gain and wallclock time\n",
    "    * if results are good, evaluate it in combination with AG HPO.\n",
    "\n",
    "### Questions for Nick\n",
    "* What is bestdiff?\n",
    "  * N: The % lower relative error the best model in a given dataset has than this model.\n",
    "    * A bestdiff of `0.2` for model A means that the oracle best model on each dataset has on average 20% lower relative error than model A.\n",
    "        * Example: A has 90% accuracy, oracle best is expected to have 92% accuracy if bestdiff is `0.2`.\n",
    "    * This is probably a better metric to optimize than loss rescaled, however it isn't perfect. It fails to appreciate quality differences when models are very weak, such as the difference between 50% accuracy and 52% accuracy. Mean-while it cares a lot about the difference between 99.99% and 99.999% accuracy.\n",
    "* How is the loss rescaled?\n",
    "  * N: best model = 0, worst model = 1, normalize rest between 0 and 1, separately for each dataset\n",
    "\n",
    "You can refer to this code:\n",
    "\n",
    "```\n",
    "results_agg[BESTDIFF] = 1 - (results_agg['BEST_ERROR'] / results_agg[METRIC_ERROR])\n",
    "results_agg[LOSS_RESCALED] = (results_agg[METRIC_ERROR] - results_agg['BEST_ERROR']) / (results_agg['WORST_ERROR'] - results_agg['BEST_ERROR'])\n",
    "```\n"
   ],
   "metadata": {
    "collapsed": false
   }
  },
  {
   "cell_type": "markdown",
   "source": [
    "# Create new config based on ZS for AG"
   ],
   "metadata": {
    "collapsed": false
   }
  },
  {
   "cell_type": "code",
   "execution_count": 26,
   "outputs": [
    {
     "data": {
      "text/plain": "['CatBoost_r62',\n 'NeuralNetFastAI_r52',\n 'CatBoost_r84',\n 'LightGBM_r3',\n 'LightGBM_r82',\n 'NeuralNetFastAI_r4',\n 'NeuralNetFastAI_r100',\n 'CatBoost_r28',\n 'NeuralNetFastAI_r73',\n 'LightGBM_r27',\n 'CatBoost_r24',\n 'NeuralNetFastAI_r2',\n 'LightGBM_r88',\n 'NeuralNetFastAI_r10',\n 'LightGBM_r7',\n 'NeuralNetTorch_r14',\n 'CatBoost_r86',\n 'CatBoost_r56',\n 'CatBoost_r69',\n 'CatBoost_r30']"
     },
     "execution_count": 26,
     "metadata": {},
     "output_type": "execute_result"
    }
   ],
   "source": [
    "zeroshot_final = zeroshot_configs\n",
    "zeroshot_final"
   ],
   "metadata": {
    "collapsed": false
   }
  },
  {
   "cell_type": "code",
   "execution_count": 27,
   "outputs": [
    {
     "data": {
      "text/plain": "{'CatBoost_r62': {'hyperparameters': {'depth': 7,\n   'l2_leaf_reg': 1.2023524602169489,\n   'learning_rate': 0.01925381050368187,\n   'ag_args': {'name_suffix': '_r62'}},\n  'name_prefix': 'CatBoost',\n  'name_suffix': '_r62',\n  'model_type': 'CAT'},\n 'NeuralNetFastAI_r52': {'hyperparameters': {'bs': 128,\n   'emb_drop': 0.352237129196747,\n   'epochs': 23,\n   'layers': [200],\n   'lr': 0.042935968821626626,\n   'ps': 0.10243288109022286,\n   'ag_args': {'name_suffix': '_r52'}},\n  'name_prefix': 'NeuralNetFastAI',\n  'name_suffix': '_r52',\n  'model_type': 'FASTAI'},\n 'CatBoost_r84': {'hyperparameters': {'depth': 5,\n   'l2_leaf_reg': 4.490602621789581,\n   'learning_rate': 0.013715156079130373,\n   'ag_args': {'name_suffix': '_r84'}},\n  'name_prefix': 'CatBoost',\n  'name_suffix': '_r84',\n  'model_type': 'CAT'},\n 'LightGBM_r3': {'hyperparameters': {'extra_trees': False,\n   'feature_fraction': 0.9872819661753602,\n   'learning_rate': 0.02057151708150835,\n   'min_data_in_leaf': 40,\n   'num_leaves': 55,\n   'ag_args': {'name_suffix': '_r3'}},\n  'name_prefix': 'LightGBM',\n  'name_suffix': '_r3',\n  'model_type': 'GBM'},\n 'LightGBM_r82': {'hyperparameters': {'extra_trees': True,\n   'feature_fraction': 0.7903963195455197,\n   'learning_rate': 0.0078031461756014435,\n   'min_data_in_leaf': 3,\n   'num_leaves': 36,\n   'ag_args': {'name_suffix': '_r82'}},\n  'name_prefix': 'LightGBM',\n  'name_suffix': '_r82',\n  'model_type': 'GBM'},\n 'NeuralNetFastAI_r4': {'hyperparameters': {'bs': 128,\n   'emb_drop': 0.03551802909894347,\n   'epochs': 29,\n   'layers': [400, 200],\n   'lr': 0.0005565358475390961,\n   'ps': 0.416309922773969,\n   'ag_args': {'name_suffix': '_r4'}},\n  'name_prefix': 'NeuralNetFastAI',\n  'name_suffix': '_r4',\n  'model_type': 'FASTAI'},\n 'NeuralNetFastAI_r100': {'hyperparameters': {'bs': 2048,\n   'emb_drop': 0.3497875301123757,\n   'epochs': 43,\n   'layers': [400, 200],\n   'lr': 0.09707693345442864,\n   'ps': 0.22591084133487982,\n   'ag_args': {'name_suffix': '_r100'}},\n  'name_prefix': 'NeuralNetFastAI',\n  'name_suffix': '_r100',\n  'model_type': 'FASTAI'},\n 'CatBoost_r28': {'hyperparameters': {'depth': 10,\n   'l2_leaf_reg': 1.2228587748064252,\n   'learning_rate': 0.02640913226367171,\n   'ag_args': {'name_suffix': '_r28'}},\n  'name_prefix': 'CatBoost',\n  'name_suffix': '_r28',\n  'model_type': 'CAT'},\n 'NeuralNetFastAI_r73': {'hyperparameters': {'bs': 512,\n   'emb_drop': 0.24540930642543896,\n   'epochs': 47,\n   'layers': [400, 200, 100],\n   'lr': 0.05371685238969937,\n   'ps': 0.24420502997019494,\n   'ag_args': {'name_suffix': '_r73'}},\n  'name_prefix': 'NeuralNetFastAI',\n  'name_suffix': '_r73',\n  'model_type': 'FASTAI'},\n 'LightGBM_r27': {'hyperparameters': {'extra_trees': False,\n   'feature_fraction': 0.900714521441498,\n   'learning_rate': 0.014541724989743212,\n   'min_data_in_leaf': 21,\n   'num_leaves': 62,\n   'ag_args': {'name_suffix': '_r27'}},\n  'name_prefix': 'LightGBM',\n  'name_suffix': '_r27',\n  'model_type': 'GBM'},\n 'CatBoost_r24': {'hyperparameters': {'depth': 10,\n   'l2_leaf_reg': 2.2688069682771843,\n   'learning_rate': 0.0882929770449357,\n   'ag_args': {'name_suffix': '_r24'}},\n  'name_prefix': 'CatBoost',\n  'name_suffix': '_r24',\n  'model_type': 'CAT'},\n 'NeuralNetFastAI_r2': {'hyperparameters': {'bs': 1024,\n   'emb_drop': 0.32294705653332806,\n   'epochs': 24,\n   'layers': [400, 200, 100],\n   'lr': 0.05635940875693889,\n   'ps': 0.48183138025051464,\n   'ag_args': {'name_suffix': '_r2'}},\n  'name_prefix': 'NeuralNetFastAI',\n  'name_suffix': '_r2',\n  'model_type': 'FASTAI'},\n 'LightGBM_r88': {'hyperparameters': {'extra_trees': True,\n   'feature_fraction': 0.9336484319409617,\n   'learning_rate': 0.024620513435286207,\n   'min_data_in_leaf': 7,\n   'num_leaves': 22,\n   'ag_args': {'name_suffix': '_r88'}},\n  'name_prefix': 'LightGBM',\n  'name_suffix': '_r88',\n  'model_type': 'GBM'},\n 'NeuralNetFastAI_r10': {'hyperparameters': {'bs': 1024,\n   'emb_drop': 0.32657001789896883,\n   'epochs': 31,\n   'layers': [200, 100, 50],\n   'lr': 0.0033349465943843183,\n   'ps': 0.3753430706092281,\n   'ag_args': {'name_suffix': '_r10'}},\n  'name_prefix': 'NeuralNetFastAI',\n  'name_suffix': '_r10',\n  'model_type': 'FASTAI'},\n 'LightGBM_r7': {'hyperparameters': {'extra_trees': True,\n   'feature_fraction': 0.8115177767885262,\n   'learning_rate': 0.08900708329715352,\n   'min_data_in_leaf': 16,\n   'num_leaves': 55,\n   'ag_args': {'name_suffix': '_r7'}},\n  'name_prefix': 'LightGBM',\n  'name_suffix': '_r7',\n  'model_type': 'GBM'},\n 'NeuralNetTorch_r14': {'hyperparameters': {'activation': 'elu',\n   'dropout_prob': 0.4,\n   'hidden_size': 256,\n   'learning_rate': 0.022501042469595958,\n   'num_layers': 3,\n   'use_batchnorm': False,\n   'weight_decay': 1.1698065095445552e-11,\n   'ag_args': {'name_suffix': '_r14'}},\n  'name_prefix': 'NeuralNetTorch',\n  'name_suffix': '_r14',\n  'model_type': 'NN_TORCH'},\n 'CatBoost_r86': {'hyperparameters': {'depth': 5,\n   'l2_leaf_reg': 2.9336344663950107,\n   'learning_rate': 0.09174404510188061,\n   'ag_args': {'name_suffix': '_r86'}},\n  'name_prefix': 'CatBoost',\n  'name_suffix': '_r86',\n  'model_type': 'CAT'},\n 'CatBoost_r56': {'hyperparameters': {'depth': 8,\n   'l2_leaf_reg': 4.677930454978695,\n   'learning_rate': 0.06969913920013769,\n   'ag_args': {'name_suffix': '_r56'}},\n  'name_prefix': 'CatBoost',\n  'name_suffix': '_r56',\n  'model_type': 'CAT'},\n 'CatBoost_r69': {'hyperparameters': {'depth': 5,\n   'l2_leaf_reg': 1.2014802270301752,\n   'learning_rate': 0.06591239004599538,\n   'ag_args': {'name_suffix': '_r69'}},\n  'name_prefix': 'CatBoost',\n  'name_suffix': '_r69',\n  'model_type': 'CAT'},\n 'CatBoost_r30': {'hyperparameters': {'depth': 8,\n   'l2_leaf_reg': 1.4749108758169762,\n   'learning_rate': 0.01615839178126153,\n   'ag_args': {'name_suffix': '_r30'}},\n  'name_prefix': 'CatBoost',\n  'name_suffix': '_r30',\n  'model_type': 'CAT'}}"
     },
     "execution_count": 27,
     "metadata": {},
     "output_type": "execute_result"
    }
   ],
   "source": [
    "zeroshot_configs_dict = {config: configs_full[config] for config in zeroshot_final}\n",
    "zeroshot_configs_dict"
   ],
   "metadata": {
    "collapsed": false
   }
  },
  {
   "cell_type": "code",
   "execution_count": 28,
   "outputs": [],
   "source": [
    "from autogluon.common.savers import save_json\n",
    "save_json.save(path='configs_zs_20221005.json', obj=zeroshot_configs_dict)"
   ],
   "metadata": {
    "collapsed": false
   }
  },
  {
   "cell_type": "code",
   "execution_count": 29,
   "outputs": [
    {
     "data": {
      "text/plain": "                      time_train_s  metric_error  time_infer_s  bestdiff  \\\nframework                                                                  \nCatBoost_r62             65.203621  9.919136e+04      0.000787  0.204138   \nNeuralNetFastAI_r52      29.669489  3.767505e+06      0.003266  0.369487   \nCatBoost_r84             76.714686  9.937899e+04      0.000532  0.223004   \nLightGBM_r3               3.147420  9.749748e+04      0.000112  0.266056   \nLightGBM_r82              9.982551  9.747002e+04      0.000286  0.227960   \nNeuralNetFastAI_r4       43.687064  3.791393e+06      0.003194  0.365026   \nNeuralNetFastAI_r100     10.787574  4.183122e+05      0.003174  0.329712   \nCatBoost_r28            104.907733  9.854884e+04      0.001392  0.218318   \nNeuralNetFastAI_r73      16.732460  1.269843e+05      0.003159  0.323999   \nLightGBM_r27              4.003795  9.677482e+04      0.000130  0.261745   \nCatBoost_r24             53.291158  9.885125e+04      0.000892  0.237516   \nNeuralNetFastAI_r2        9.676452  2.820645e+05      0.003169  0.343238   \nLightGBM_r88              4.463676  9.638892e+04      0.000142  0.236165   \nNeuralNetFastAI_r10      10.040999  2.884767e+05      0.003151  0.345773   \nLightGBM_r7               1.981092  9.663379e+04      0.000088  0.257863   \nNeuralNetTorch_r14       18.230590  1.529108e+05      0.002427  0.606818   \nCatBoost_r86             17.353923  1.001793e+05      0.000572  0.227726   \nCatBoost_r56             34.275637  9.816876e+04      0.000747  0.222357   \nCatBoost_r69             19.506297  9.947542e+04      0.000592  0.212599   \nCatBoost_r30            104.473126  9.888755e+04      0.000766  0.208899   \n\n                      loss_rescaled  time_train_s_rescaled  \\\nframework                                                    \nCatBoost_r62               0.053674              89.730839   \nNeuralNetFastAI_r52        0.153651              40.362771   \nCatBoost_r84               0.055372             131.094885   \nLightGBM_r3                0.084938               4.173896   \nLightGBM_r82               0.065812              13.800472   \nNeuralNetFastAI_r4         0.140614              59.844181   \nNeuralNetFastAI_r100       0.121913              21.630579   \nCatBoost_r28               0.059693             163.244205   \nNeuralNetFastAI_r73        0.125196              26.664488   \nLightGBM_r27               0.089396               5.422419   \nCatBoost_r24               0.065126              88.095760   \nNeuralNetFastAI_r2         0.120793              15.087556   \nLightGBM_r88               0.068831               5.200422   \nNeuralNetFastAI_r10        0.143994              16.653805   \nLightGBM_r7                0.073318               2.679183   \nNeuralNetTorch_r14         0.445744              28.837582   \nCatBoost_r86               0.059843              28.143721   \nCatBoost_r56               0.057993              56.789123   \nCatBoost_r69               0.056778              30.816489   \nCatBoost_r30               0.054854             166.154592   \n\n                      time_infer_s_rescaled        rank  rank=1_count  \\\nframework                                                               \nCatBoost_r62                       6.372296  127.961538             0   \nNeuralNetFastAI_r52               20.506521  416.628205             0   \nCatBoost_r84                       3.367867  174.903846             0   \nLightGBM_r3                       11.176169  280.660256             0   \nLightGBM_r82                      64.271744  206.833333             1   \nNeuralNetFastAI_r4                22.293182  390.294872             0   \nNeuralNetFastAI_r100              15.440677  377.653846             1   \nCatBoost_r28                      19.147210  181.352564             2   \nNeuralNetFastAI_r73               15.720962  349.128205             1   \nLightGBM_r27                      15.717300  272.544872             0   \nCatBoost_r24                       8.763524  234.089744             0   \nNeuralNetFastAI_r2                14.761751  359.788462             0   \nLightGBM_r88                      23.563155  214.974359             0   \nNeuralNetFastAI_r10               14.010727  374.185897             0   \nLightGBM_r7                        8.885846  270.096154             0   \nNeuralNetTorch_r14                13.957046  541.429487             0   \nCatBoost_r86                       2.314783  192.384615             0   \nCatBoost_r56                       5.374942  179.525641             0   \nCatBoost_r69                       2.908120  181.743590             0   \nCatBoost_r30                       7.563802  148.692308             0   \n\n                      rank=2_count  rank=3_count  rank>3_count  error_count  \nframework                                                                    \nCatBoost_r62                     0             0            78           23  \nNeuralNetFastAI_r52              0             0            78            3  \nCatBoost_r84                     0             0            78           24  \nLightGBM_r3                      0             0            78            2  \nLightGBM_r82                     0             0            77            8  \nNeuralNetFastAI_r4               0             0            78            1  \nNeuralNetFastAI_r100             1             1            75            5  \nCatBoost_r28                     0             0            76           18  \nNeuralNetFastAI_r73              0             1            76            4  \nLightGBM_r27                     0             0            78            4  \nCatBoost_r24                     0             0            78           17  \nNeuralNetFastAI_r2               0             0            78            1  \nLightGBM_r88                     0             1            77            9  \nNeuralNetFastAI_r10              2             0            76            1  \nLightGBM_r7                      0             0            78            2  \nNeuralNetTorch_r14               0             0            78            1  \nCatBoost_r86                     1             0            77           24  \nCatBoost_r56                     0             0            78           22  \nCatBoost_r69                     0             0            78           23  \nCatBoost_r30                     0             0            78           18  ",
      "text/html": "<div>\n<style scoped>\n    .dataframe tbody tr th:only-of-type {\n        vertical-align: middle;\n    }\n\n    .dataframe tbody tr th {\n        vertical-align: top;\n    }\n\n    .dataframe thead th {\n        text-align: right;\n    }\n</style>\n<table border=\"1\" class=\"dataframe\">\n  <thead>\n    <tr style=\"text-align: right;\">\n      <th></th>\n      <th>time_train_s</th>\n      <th>metric_error</th>\n      <th>time_infer_s</th>\n      <th>bestdiff</th>\n      <th>loss_rescaled</th>\n      <th>time_train_s_rescaled</th>\n      <th>time_infer_s_rescaled</th>\n      <th>rank</th>\n      <th>rank=1_count</th>\n      <th>rank=2_count</th>\n      <th>rank=3_count</th>\n      <th>rank&gt;3_count</th>\n      <th>error_count</th>\n    </tr>\n    <tr>\n      <th>framework</th>\n      <th></th>\n      <th></th>\n      <th></th>\n      <th></th>\n      <th></th>\n      <th></th>\n      <th></th>\n      <th></th>\n      <th></th>\n      <th></th>\n      <th></th>\n      <th></th>\n      <th></th>\n    </tr>\n  </thead>\n  <tbody>\n    <tr>\n      <th>CatBoost_r62</th>\n      <td>65.203621</td>\n      <td>9.919136e+04</td>\n      <td>0.000787</td>\n      <td>0.204138</td>\n      <td>0.053674</td>\n      <td>89.730839</td>\n      <td>6.372296</td>\n      <td>127.961538</td>\n      <td>0</td>\n      <td>0</td>\n      <td>0</td>\n      <td>78</td>\n      <td>23</td>\n    </tr>\n    <tr>\n      <th>NeuralNetFastAI_r52</th>\n      <td>29.669489</td>\n      <td>3.767505e+06</td>\n      <td>0.003266</td>\n      <td>0.369487</td>\n      <td>0.153651</td>\n      <td>40.362771</td>\n      <td>20.506521</td>\n      <td>416.628205</td>\n      <td>0</td>\n      <td>0</td>\n      <td>0</td>\n      <td>78</td>\n      <td>3</td>\n    </tr>\n    <tr>\n      <th>CatBoost_r84</th>\n      <td>76.714686</td>\n      <td>9.937899e+04</td>\n      <td>0.000532</td>\n      <td>0.223004</td>\n      <td>0.055372</td>\n      <td>131.094885</td>\n      <td>3.367867</td>\n      <td>174.903846</td>\n      <td>0</td>\n      <td>0</td>\n      <td>0</td>\n      <td>78</td>\n      <td>24</td>\n    </tr>\n    <tr>\n      <th>LightGBM_r3</th>\n      <td>3.147420</td>\n      <td>9.749748e+04</td>\n      <td>0.000112</td>\n      <td>0.266056</td>\n      <td>0.084938</td>\n      <td>4.173896</td>\n      <td>11.176169</td>\n      <td>280.660256</td>\n      <td>0</td>\n      <td>0</td>\n      <td>0</td>\n      <td>78</td>\n      <td>2</td>\n    </tr>\n    <tr>\n      <th>LightGBM_r82</th>\n      <td>9.982551</td>\n      <td>9.747002e+04</td>\n      <td>0.000286</td>\n      <td>0.227960</td>\n      <td>0.065812</td>\n      <td>13.800472</td>\n      <td>64.271744</td>\n      <td>206.833333</td>\n      <td>1</td>\n      <td>0</td>\n      <td>0</td>\n      <td>77</td>\n      <td>8</td>\n    </tr>\n    <tr>\n      <th>NeuralNetFastAI_r4</th>\n      <td>43.687064</td>\n      <td>3.791393e+06</td>\n      <td>0.003194</td>\n      <td>0.365026</td>\n      <td>0.140614</td>\n      <td>59.844181</td>\n      <td>22.293182</td>\n      <td>390.294872</td>\n      <td>0</td>\n      <td>0</td>\n      <td>0</td>\n      <td>78</td>\n      <td>1</td>\n    </tr>\n    <tr>\n      <th>NeuralNetFastAI_r100</th>\n      <td>10.787574</td>\n      <td>4.183122e+05</td>\n      <td>0.003174</td>\n      <td>0.329712</td>\n      <td>0.121913</td>\n      <td>21.630579</td>\n      <td>15.440677</td>\n      <td>377.653846</td>\n      <td>1</td>\n      <td>1</td>\n      <td>1</td>\n      <td>75</td>\n      <td>5</td>\n    </tr>\n    <tr>\n      <th>CatBoost_r28</th>\n      <td>104.907733</td>\n      <td>9.854884e+04</td>\n      <td>0.001392</td>\n      <td>0.218318</td>\n      <td>0.059693</td>\n      <td>163.244205</td>\n      <td>19.147210</td>\n      <td>181.352564</td>\n      <td>2</td>\n      <td>0</td>\n      <td>0</td>\n      <td>76</td>\n      <td>18</td>\n    </tr>\n    <tr>\n      <th>NeuralNetFastAI_r73</th>\n      <td>16.732460</td>\n      <td>1.269843e+05</td>\n      <td>0.003159</td>\n      <td>0.323999</td>\n      <td>0.125196</td>\n      <td>26.664488</td>\n      <td>15.720962</td>\n      <td>349.128205</td>\n      <td>1</td>\n      <td>0</td>\n      <td>1</td>\n      <td>76</td>\n      <td>4</td>\n    </tr>\n    <tr>\n      <th>LightGBM_r27</th>\n      <td>4.003795</td>\n      <td>9.677482e+04</td>\n      <td>0.000130</td>\n      <td>0.261745</td>\n      <td>0.089396</td>\n      <td>5.422419</td>\n      <td>15.717300</td>\n      <td>272.544872</td>\n      <td>0</td>\n      <td>0</td>\n      <td>0</td>\n      <td>78</td>\n      <td>4</td>\n    </tr>\n    <tr>\n      <th>CatBoost_r24</th>\n      <td>53.291158</td>\n      <td>9.885125e+04</td>\n      <td>0.000892</td>\n      <td>0.237516</td>\n      <td>0.065126</td>\n      <td>88.095760</td>\n      <td>8.763524</td>\n      <td>234.089744</td>\n      <td>0</td>\n      <td>0</td>\n      <td>0</td>\n      <td>78</td>\n      <td>17</td>\n    </tr>\n    <tr>\n      <th>NeuralNetFastAI_r2</th>\n      <td>9.676452</td>\n      <td>2.820645e+05</td>\n      <td>0.003169</td>\n      <td>0.343238</td>\n      <td>0.120793</td>\n      <td>15.087556</td>\n      <td>14.761751</td>\n      <td>359.788462</td>\n      <td>0</td>\n      <td>0</td>\n      <td>0</td>\n      <td>78</td>\n      <td>1</td>\n    </tr>\n    <tr>\n      <th>LightGBM_r88</th>\n      <td>4.463676</td>\n      <td>9.638892e+04</td>\n      <td>0.000142</td>\n      <td>0.236165</td>\n      <td>0.068831</td>\n      <td>5.200422</td>\n      <td>23.563155</td>\n      <td>214.974359</td>\n      <td>0</td>\n      <td>0</td>\n      <td>1</td>\n      <td>77</td>\n      <td>9</td>\n    </tr>\n    <tr>\n      <th>NeuralNetFastAI_r10</th>\n      <td>10.040999</td>\n      <td>2.884767e+05</td>\n      <td>0.003151</td>\n      <td>0.345773</td>\n      <td>0.143994</td>\n      <td>16.653805</td>\n      <td>14.010727</td>\n      <td>374.185897</td>\n      <td>0</td>\n      <td>2</td>\n      <td>0</td>\n      <td>76</td>\n      <td>1</td>\n    </tr>\n    <tr>\n      <th>LightGBM_r7</th>\n      <td>1.981092</td>\n      <td>9.663379e+04</td>\n      <td>0.000088</td>\n      <td>0.257863</td>\n      <td>0.073318</td>\n      <td>2.679183</td>\n      <td>8.885846</td>\n      <td>270.096154</td>\n      <td>0</td>\n      <td>0</td>\n      <td>0</td>\n      <td>78</td>\n      <td>2</td>\n    </tr>\n    <tr>\n      <th>NeuralNetTorch_r14</th>\n      <td>18.230590</td>\n      <td>1.529108e+05</td>\n      <td>0.002427</td>\n      <td>0.606818</td>\n      <td>0.445744</td>\n      <td>28.837582</td>\n      <td>13.957046</td>\n      <td>541.429487</td>\n      <td>0</td>\n      <td>0</td>\n      <td>0</td>\n      <td>78</td>\n      <td>1</td>\n    </tr>\n    <tr>\n      <th>CatBoost_r86</th>\n      <td>17.353923</td>\n      <td>1.001793e+05</td>\n      <td>0.000572</td>\n      <td>0.227726</td>\n      <td>0.059843</td>\n      <td>28.143721</td>\n      <td>2.314783</td>\n      <td>192.384615</td>\n      <td>0</td>\n      <td>1</td>\n      <td>0</td>\n      <td>77</td>\n      <td>24</td>\n    </tr>\n    <tr>\n      <th>CatBoost_r56</th>\n      <td>34.275637</td>\n      <td>9.816876e+04</td>\n      <td>0.000747</td>\n      <td>0.222357</td>\n      <td>0.057993</td>\n      <td>56.789123</td>\n      <td>5.374942</td>\n      <td>179.525641</td>\n      <td>0</td>\n      <td>0</td>\n      <td>0</td>\n      <td>78</td>\n      <td>22</td>\n    </tr>\n    <tr>\n      <th>CatBoost_r69</th>\n      <td>19.506297</td>\n      <td>9.947542e+04</td>\n      <td>0.000592</td>\n      <td>0.212599</td>\n      <td>0.056778</td>\n      <td>30.816489</td>\n      <td>2.908120</td>\n      <td>181.743590</td>\n      <td>0</td>\n      <td>0</td>\n      <td>0</td>\n      <td>78</td>\n      <td>23</td>\n    </tr>\n    <tr>\n      <th>CatBoost_r30</th>\n      <td>104.473126</td>\n      <td>9.888755e+04</td>\n      <td>0.000766</td>\n      <td>0.208899</td>\n      <td>0.054854</td>\n      <td>166.154592</td>\n      <td>7.563802</td>\n      <td>148.692308</td>\n      <td>0</td>\n      <td>0</td>\n      <td>0</td>\n      <td>78</td>\n      <td>18</td>\n    </tr>\n  </tbody>\n</table>\n</div>"
     },
     "execution_count": 29,
     "metadata": {},
     "output_type": "execute_result"
    }
   ],
   "source": [
    "zeroshot_model_results = df_results[df_results['framework'].isin(zeroshot_final)]\n",
    "zeroshot_model_results = zeroshot_model_results.set_index('framework', drop=True)\n",
    "zeroshot_model_results = zeroshot_model_results.reindex(zeroshot_final)\n",
    "zeroshot_model_results"
   ],
   "metadata": {
    "collapsed": false
   }
  },
  {
   "cell_type": "markdown",
   "source": [
    "## Extra: Save zeroshot config simulated results for comparison"
   ],
   "metadata": {
    "collapsed": false
   }
  },
  {
   "cell_type": "code",
   "execution_count": 30,
   "outputs": [
    {
     "data": {
      "text/plain": "                                          app_version  can_infer constraint  \\\n0   dev [https://github.com/Innixma/automlbenchmar...       True       8h8c   \n1   dev [https://github.com/Innixma/automlbenchmar...       True       8h8c   \n2   dev [https://github.com/Innixma/automlbenchmar...       True       8h8c   \n3   dev [https://github.com/Innixma/automlbenchmar...       True       8h8c   \n4   dev [https://github.com/Innixma/automlbenchmar...       True       8h8c   \n..                                                ...        ...        ...   \n73  dev [https://github.com/Innixma/automlbenchmar...       True      16h8c   \n74  dev [https://github.com/Innixma/automlbenchmar...       True      16h8c   \n75  dev [https://github.com/Innixma/automlbenchmar...       True      16h8c   \n76  dev [https://github.com/Innixma/automlbenchmar...       True      16h8c   \n77  dev [https://github.com/Innixma/automlbenchmar...       True      16h8c   \n\n                        dataset  fit_order   fit_time  fit_time_marginal  \\\n0                QSAR-TID-10980          7   4.374643           4.374643   \n1                         adult         31   2.270917           2.270917   \n2                  black_friday         31  10.443906          10.443906   \n3   first-order-theorem-proving         31   7.840176           7.840176   \n4                         nomao         31   7.778834           7.778834   \n..                          ...        ...        ...                ...   \n73                      sensory         10   2.329701           2.329701   \n74                       socmob         91   6.078165           6.078165   \n75                      tecator         91   1.385044           1.385044   \n76                   Australian         18   1.624574           1.624574   \n77                         wilt         18   3.528897           3.528897   \n\n    fold     framework framework_parent  ... pred_time_val_marginal  \\\n0      0  ALL_zs_v2_20                   ...               0.030094   \n1      0  ALL_zs_v2_20                   ...               0.041496   \n2      0  ALL_zs_v2_20                   ...               0.152517   \n3      0  ALL_zs_v2_20                   ...               0.016849   \n4      0  ALL_zs_v2_20                   ...               0.066456   \n..   ...           ...              ...  ...                    ...   \n73     0  ALL_zs_v2_20                   ...               0.014323   \n74     0  ALL_zs_v2_20                   ...               0.018874   \n75     0  ALL_zs_v2_20                   ...               0.025120   \n76     0  ALL_zs_v2_20                   ...               0.011212   \n77     0  ALL_zs_v2_20                   ...               0.008753   \n\n   problem_type    score_val        seed stack_level       tid  time_infer_s  \\\n0    regression    -0.734893  1845901875           1  360933.0      0.032156   \n1        binary     0.933433  1845901875           1  359983.0      0.100719   \n2    regression -3455.532987  1845901875           1  359937.0      1.002526   \n3    multiclass    -0.995912  1845901875           1  359969.0      0.047296   \n4        binary     0.996494  1845901875           1  359980.0      0.116796   \n..          ...          ...         ...         ...       ...           ...   \n73   regression    -0.711764   109327518           1  359931.0      0.013324   \n74   regression    -9.354880   109327518           1  359932.0      0.016880   \n75   regression    -0.839840   109327518           1  359934.0      0.025791   \n76       binary     0.943970   317688965           1  146818.0      0.011257   \n77       binary     0.989038   317688965           1  146820.0      0.008564   \n\n                    utc         version time_train_s  \n0   2022-10-01T00:25:45  0.5.3b20221001  1623.656198  \n1   2022-10-01T00:24:54  0.5.3b20221001   653.846623  \n2   2022-10-01T00:45:29  0.5.3b20221001  2262.917752  \n3   2022-10-01T00:35:29  0.5.3b20221001   779.922527  \n4   2022-10-01T00:37:29  0.5.3b20221001  1997.806311  \n..                  ...             ...          ...  \n73  2022-10-02T22:45:15  0.5.3b20221002    27.781327  \n74  2022-10-02T22:47:00  0.5.3b20221002    74.568880  \n75  2022-10-02T22:45:23  0.5.3b20221002   333.716757  \n76  2022-10-02T23:07:17  0.5.3b20221002    23.283192  \n77  2022-10-02T23:23:49  0.5.3b20221002    29.485166  \n\n[78 rows x 28 columns]",
      "text/html": "<div>\n<style scoped>\n    .dataframe tbody tr th:only-of-type {\n        vertical-align: middle;\n    }\n\n    .dataframe tbody tr th {\n        vertical-align: top;\n    }\n\n    .dataframe thead th {\n        text-align: right;\n    }\n</style>\n<table border=\"1\" class=\"dataframe\">\n  <thead>\n    <tr style=\"text-align: right;\">\n      <th></th>\n      <th>app_version</th>\n      <th>can_infer</th>\n      <th>constraint</th>\n      <th>dataset</th>\n      <th>fit_order</th>\n      <th>fit_time</th>\n      <th>fit_time_marginal</th>\n      <th>fold</th>\n      <th>framework</th>\n      <th>framework_parent</th>\n      <th>...</th>\n      <th>pred_time_val_marginal</th>\n      <th>problem_type</th>\n      <th>score_val</th>\n      <th>seed</th>\n      <th>stack_level</th>\n      <th>tid</th>\n      <th>time_infer_s</th>\n      <th>utc</th>\n      <th>version</th>\n      <th>time_train_s</th>\n    </tr>\n  </thead>\n  <tbody>\n    <tr>\n      <th>0</th>\n      <td>dev [https://github.com/Innixma/automlbenchmar...</td>\n      <td>True</td>\n      <td>8h8c</td>\n      <td>QSAR-TID-10980</td>\n      <td>7</td>\n      <td>4.374643</td>\n      <td>4.374643</td>\n      <td>0</td>\n      <td>ALL_zs_v2_20</td>\n      <td></td>\n      <td>...</td>\n      <td>0.030094</td>\n      <td>regression</td>\n      <td>-0.734893</td>\n      <td>1845901875</td>\n      <td>1</td>\n      <td>360933.0</td>\n      <td>0.032156</td>\n      <td>2022-10-01T00:25:45</td>\n      <td>0.5.3b20221001</td>\n      <td>1623.656198</td>\n    </tr>\n    <tr>\n      <th>1</th>\n      <td>dev [https://github.com/Innixma/automlbenchmar...</td>\n      <td>True</td>\n      <td>8h8c</td>\n      <td>adult</td>\n      <td>31</td>\n      <td>2.270917</td>\n      <td>2.270917</td>\n      <td>0</td>\n      <td>ALL_zs_v2_20</td>\n      <td></td>\n      <td>...</td>\n      <td>0.041496</td>\n      <td>binary</td>\n      <td>0.933433</td>\n      <td>1845901875</td>\n      <td>1</td>\n      <td>359983.0</td>\n      <td>0.100719</td>\n      <td>2022-10-01T00:24:54</td>\n      <td>0.5.3b20221001</td>\n      <td>653.846623</td>\n    </tr>\n    <tr>\n      <th>2</th>\n      <td>dev [https://github.com/Innixma/automlbenchmar...</td>\n      <td>True</td>\n      <td>8h8c</td>\n      <td>black_friday</td>\n      <td>31</td>\n      <td>10.443906</td>\n      <td>10.443906</td>\n      <td>0</td>\n      <td>ALL_zs_v2_20</td>\n      <td></td>\n      <td>...</td>\n      <td>0.152517</td>\n      <td>regression</td>\n      <td>-3455.532987</td>\n      <td>1845901875</td>\n      <td>1</td>\n      <td>359937.0</td>\n      <td>1.002526</td>\n      <td>2022-10-01T00:45:29</td>\n      <td>0.5.3b20221001</td>\n      <td>2262.917752</td>\n    </tr>\n    <tr>\n      <th>3</th>\n      <td>dev [https://github.com/Innixma/automlbenchmar...</td>\n      <td>True</td>\n      <td>8h8c</td>\n      <td>first-order-theorem-proving</td>\n      <td>31</td>\n      <td>7.840176</td>\n      <td>7.840176</td>\n      <td>0</td>\n      <td>ALL_zs_v2_20</td>\n      <td></td>\n      <td>...</td>\n      <td>0.016849</td>\n      <td>multiclass</td>\n      <td>-0.995912</td>\n      <td>1845901875</td>\n      <td>1</td>\n      <td>359969.0</td>\n      <td>0.047296</td>\n      <td>2022-10-01T00:35:29</td>\n      <td>0.5.3b20221001</td>\n      <td>779.922527</td>\n    </tr>\n    <tr>\n      <th>4</th>\n      <td>dev [https://github.com/Innixma/automlbenchmar...</td>\n      <td>True</td>\n      <td>8h8c</td>\n      <td>nomao</td>\n      <td>31</td>\n      <td>7.778834</td>\n      <td>7.778834</td>\n      <td>0</td>\n      <td>ALL_zs_v2_20</td>\n      <td></td>\n      <td>...</td>\n      <td>0.066456</td>\n      <td>binary</td>\n      <td>0.996494</td>\n      <td>1845901875</td>\n      <td>1</td>\n      <td>359980.0</td>\n      <td>0.116796</td>\n      <td>2022-10-01T00:37:29</td>\n      <td>0.5.3b20221001</td>\n      <td>1997.806311</td>\n    </tr>\n    <tr>\n      <th>...</th>\n      <td>...</td>\n      <td>...</td>\n      <td>...</td>\n      <td>...</td>\n      <td>...</td>\n      <td>...</td>\n      <td>...</td>\n      <td>...</td>\n      <td>...</td>\n      <td>...</td>\n      <td>...</td>\n      <td>...</td>\n      <td>...</td>\n      <td>...</td>\n      <td>...</td>\n      <td>...</td>\n      <td>...</td>\n      <td>...</td>\n      <td>...</td>\n      <td>...</td>\n      <td>...</td>\n    </tr>\n    <tr>\n      <th>73</th>\n      <td>dev [https://github.com/Innixma/automlbenchmar...</td>\n      <td>True</td>\n      <td>16h8c</td>\n      <td>sensory</td>\n      <td>10</td>\n      <td>2.329701</td>\n      <td>2.329701</td>\n      <td>0</td>\n      <td>ALL_zs_v2_20</td>\n      <td></td>\n      <td>...</td>\n      <td>0.014323</td>\n      <td>regression</td>\n      <td>-0.711764</td>\n      <td>109327518</td>\n      <td>1</td>\n      <td>359931.0</td>\n      <td>0.013324</td>\n      <td>2022-10-02T22:45:15</td>\n      <td>0.5.3b20221002</td>\n      <td>27.781327</td>\n    </tr>\n    <tr>\n      <th>74</th>\n      <td>dev [https://github.com/Innixma/automlbenchmar...</td>\n      <td>True</td>\n      <td>16h8c</td>\n      <td>socmob</td>\n      <td>91</td>\n      <td>6.078165</td>\n      <td>6.078165</td>\n      <td>0</td>\n      <td>ALL_zs_v2_20</td>\n      <td></td>\n      <td>...</td>\n      <td>0.018874</td>\n      <td>regression</td>\n      <td>-9.354880</td>\n      <td>109327518</td>\n      <td>1</td>\n      <td>359932.0</td>\n      <td>0.016880</td>\n      <td>2022-10-02T22:47:00</td>\n      <td>0.5.3b20221002</td>\n      <td>74.568880</td>\n    </tr>\n    <tr>\n      <th>75</th>\n      <td>dev [https://github.com/Innixma/automlbenchmar...</td>\n      <td>True</td>\n      <td>16h8c</td>\n      <td>tecator</td>\n      <td>91</td>\n      <td>1.385044</td>\n      <td>1.385044</td>\n      <td>0</td>\n      <td>ALL_zs_v2_20</td>\n      <td></td>\n      <td>...</td>\n      <td>0.025120</td>\n      <td>regression</td>\n      <td>-0.839840</td>\n      <td>109327518</td>\n      <td>1</td>\n      <td>359934.0</td>\n      <td>0.025791</td>\n      <td>2022-10-02T22:45:23</td>\n      <td>0.5.3b20221002</td>\n      <td>333.716757</td>\n    </tr>\n    <tr>\n      <th>76</th>\n      <td>dev [https://github.com/Innixma/automlbenchmar...</td>\n      <td>True</td>\n      <td>16h8c</td>\n      <td>Australian</td>\n      <td>18</td>\n      <td>1.624574</td>\n      <td>1.624574</td>\n      <td>0</td>\n      <td>ALL_zs_v2_20</td>\n      <td></td>\n      <td>...</td>\n      <td>0.011212</td>\n      <td>binary</td>\n      <td>0.943970</td>\n      <td>317688965</td>\n      <td>1</td>\n      <td>146818.0</td>\n      <td>0.011257</td>\n      <td>2022-10-02T23:07:17</td>\n      <td>0.5.3b20221002</td>\n      <td>23.283192</td>\n    </tr>\n    <tr>\n      <th>77</th>\n      <td>dev [https://github.com/Innixma/automlbenchmar...</td>\n      <td>True</td>\n      <td>16h8c</td>\n      <td>wilt</td>\n      <td>18</td>\n      <td>3.528897</td>\n      <td>3.528897</td>\n      <td>0</td>\n      <td>ALL_zs_v2_20</td>\n      <td></td>\n      <td>...</td>\n      <td>0.008753</td>\n      <td>binary</td>\n      <td>0.989038</td>\n      <td>317688965</td>\n      <td>1</td>\n      <td>146820.0</td>\n      <td>0.008564</td>\n      <td>2022-10-02T23:23:49</td>\n      <td>0.5.3b20221002</td>\n      <td>29.485166</td>\n    </tr>\n  </tbody>\n</table>\n<p>78 rows × 28 columns</p>\n</div>"
     },
     "execution_count": 30,
     "metadata": {},
     "output_type": "execute_result"
    }
   ],
   "source": [
    "zeroshot_raw_df = config_scorer.get_configs_df(zeroshot_configs)\n",
    "zeroshot_raw_df['tid'] = zeroshot_raw_df['dataset']\n",
    "zeroshot_raw_df['model'] = zeroshot_raw_df['framework']\n",
    "df_raw_zeroshot = df_raw.merge(zeroshot_raw_df[['tid', 'model']], on=['tid', 'model'])\n",
    "df_raw_zeroshot['model'] = 'ALL_zs_v2_20'\n",
    "df_raw_zeroshot['framework'] = 'ALL_zs_v2_20'\n",
    "df_raw_zeroshot['framework_parent'] = ''\n",
    "\n",
    "df_zs_train_time_s_per_dataset_ = df_pivot_time_train_s.loc[zeroshot_configs]['time_train_s'].sum()\n",
    "df_zs_train_time_s_per_dataset_.name = 'time_train_s'\n",
    "df_zs_train_time_s_per_dataset_ = df_zs_train_time_s_per_dataset_.rename_axis('tid')\n",
    "df_zs_train_time_s_per_dataset_ = df_zs_train_time_s_per_dataset_.to_frame().reset_index(drop=False)\n",
    "\n",
    "# TODO: Still not technically correct train_time_s, can optimize order of zero-shot training and report the earliest at which the score is generated\n",
    "df_raw_zeroshot = df_raw_zeroshot.drop(columns=['time_train_s']).merge(df_zs_train_time_s_per_dataset_, on=['tid'])  # Get the correct train_time_s\n",
    "df_raw_zeroshot"
   ],
   "metadata": {
    "collapsed": false
   }
  },
  {
   "cell_type": "code",
   "execution_count": 31,
   "outputs": [],
   "source": [
    "from autogluon.common.savers import save_pd\n",
    "# Use this file to compare theoretical performance to AutoGluon in separate analysis repo\n",
    "save_pd.save(path='zeroshot_all_v3_20.csv', df=df_raw_zeroshot)"
   ],
   "metadata": {
    "collapsed": false
   }
  }
 ],
 "metadata": {
  "kernelspec": {
   "display_name": "Python 3 (ipykernel)",
   "language": "python",
   "name": "python3"
  },
  "language_info": {
   "codemirror_mode": {
    "name": "ipython",
    "version": 3
   },
   "file_extension": ".py",
   "mimetype": "text/x-python",
   "name": "python",
   "nbconvert_exporter": "python",
   "pygments_lexer": "ipython3",
   "version": "3.8.13"
  }
 },
 "nbformat": 4,
 "nbformat_minor": 5
}
